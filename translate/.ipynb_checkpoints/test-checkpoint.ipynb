{
 "cells": [
  {
   "cell_type": "code",
   "execution_count": 1,
   "metadata": {},
   "outputs": [],
   "source": [
    "from translate import translate_batch, translator"
   ]
  },
  {
   "cell_type": "code",
   "execution_count": 2,
   "metadata": {},
   "outputs": [],
   "source": [
    "ru_eng_translator = translator(\"facebook/wmt19-ru-en\")\n",
    "eng_ru_translator = translator(\"facebook/wmt19-en-ru\")"
   ]
  },
  {
   "cell_type": "code",
   "execution_count": 3,
   "metadata": {},
   "outputs": [],
   "source": [
    "input_test_batch = [{\"lang\":\"ru\", \"question\": \"what is color on T-shirt?\"}, \n",
    "                    {\"lang\":\"en\", \"question\": \"какого цвета собака?\"}]"
   ]
  },
  {
   "cell_type": "code",
   "execution_count": 4,
   "metadata": {
    "scrolled": false
   },
   "outputs": [
    {
     "name": "stderr",
     "output_type": "stream",
     "text": [
      "/home/kumeiko.se/.local/lib/python3.7/site-packages/torch/_tensor.py:575: UserWarning: floor_divide is deprecated, and will be removed in a future version of pytorch. It currently rounds toward 0 (like the 'trunc' function NOT 'floor'). This results in incorrect rounding for negative values.\n",
      "To keep the current behavior, use torch.div(a, b, rounding_mode='trunc'), or for actual floor division, use torch.div(a, b, rounding_mode='floor'). (Triggered internally at  /pytorch/aten/src/ATen/native/BinaryOps.cpp:467.)\n",
      "  return torch.floor_divide(self, other)\n"
     ]
    }
   ],
   "source": [
    "translate_batch(input_test_batch, ru_eng_translator, eng_ru_translator, ques_or_ans_key = \"question\")"
   ]
  },
  {
   "cell_type": "code",
   "execution_count": 5,
   "metadata": {},
   "outputs": [
    {
     "data": {
      "text/plain": [
       "[{'lang': 'ru',\n",
       "  'question': 'what is color on T-shirt?',\n",
       "  'question_translate': 'Какой цвет на футболке?'},\n",
       " {'lang': 'en',\n",
       "  'question': 'какого цвета собака?',\n",
       "  'question_translate': 'What color is the dog?'}]"
      ]
     },
     "execution_count": 5,
     "metadata": {},
     "output_type": "execute_result"
    }
   ],
   "source": [
    "input_test_batch"
   ]
  },
  {
   "cell_type": "code",
   "execution_count": null,
   "metadata": {},
   "outputs": [],
   "source": []
  },
  {
   "cell_type": "code",
   "execution_count": 6,
   "metadata": {},
   "outputs": [],
   "source": [
    "after_visual_test_batch = [{'lang': 'ru',\n",
    "                            'question': 'What is color on T-shirt?',\n",
    "                            'answer': 'черный',\n",
    "                            'question_translate': 'Какой цвет на футболке?'},\n",
    "                           {'lang': 'en',\n",
    "                            'question': 'Какого цвета собака?',\n",
    "                            'answer': 'black',\n",
    "                            'question_translate': 'What color is the dog?'}]"
   ]
  },
  {
   "cell_type": "code",
   "execution_count": 7,
   "metadata": {},
   "outputs": [],
   "source": [
    "translate_batch(after_visual_test_batch, ru_eng_translator, eng_ru_translator, ques_or_ans_key = \"answer\")"
   ]
  },
  {
   "cell_type": "code",
   "execution_count": 8,
   "metadata": {},
   "outputs": [
    {
     "data": {
      "text/plain": [
       "[{'lang': 'ru',\n",
       "  'question': 'What is color on T-shirt?',\n",
       "  'answer': 'черный',\n",
       "  'question_translate': 'Какой цвет на футболке?',\n",
       "  'answer_translate': 'Black'},\n",
       " {'lang': 'en',\n",
       "  'question': 'Какого цвета собака?',\n",
       "  'answer': 'black',\n",
       "  'question_translate': 'What color is the dog?',\n",
       "  'answer_translate': 'Черный'}]"
      ]
     },
     "execution_count": 8,
     "metadata": {},
     "output_type": "execute_result"
    }
   ],
   "source": [
    "after_visual_test_batch"
   ]
  },
  {
   "cell_type": "code",
   "execution_count": null,
   "metadata": {},
   "outputs": [],
   "source": []
  }
 ],
 "metadata": {
  "kernelspec": {
   "display_name": "Python 3 (ipykernel)",
   "language": "python",
   "name": "python3"
  },
  "language_info": {
   "codemirror_mode": {
    "name": "ipython",
    "version": 3
   },
   "file_extension": ".py",
   "mimetype": "text/x-python",
   "name": "python",
   "nbconvert_exporter": "python",
   "pygments_lexer": "ipython3",
   "version": "3.7.6"
  }
 },
 "nbformat": 4,
 "nbformat_minor": 4
}
